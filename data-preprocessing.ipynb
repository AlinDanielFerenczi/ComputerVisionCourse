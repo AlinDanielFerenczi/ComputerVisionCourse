{
 "cells": [
  {
   "cell_type": "code",
   "execution_count": 1,
   "metadata": {
    "pycharm": {
     "name": "#%%\n"
    }
   },
   "outputs": [
    {
     "name": "stdout",
     "output_type": "stream",
     "text": [
      "Found 20 files belonging to 2 classes.\n",
      "Found 30 files belonging to 3 classes.\n"
     ]
    }
   ],
   "source": [
    "import pathlib\n",
    "import tensorflow as tf\n",
    "from tensorflow.python.keras.models import Sequential\n",
    "\n",
    "train_data_dir = \"//Users/dianadragos/Downloads/places365_standard/sample/train/\"\n",
    "val_data_dir = \"//Users/dianadragos/Downloads/places365_standard/sample/val/\"\n",
    "\n",
    "train_data_dir = pathlib.Path(train_data_dir)\n",
    "val_data_dir = pathlib.Path(val_data_dir)\n",
    "\n",
    "batch_size = 32\n",
    "img_height = 180\n",
    "img_width = 180\n",
    "\n",
    "train_ds = tf.keras.preprocessing.image_dataset_from_directory(\n",
    "  train_data_dir,\n",
    "  image_size=(img_height, img_width),\n",
    "  batch_size=batch_size)\n",
    "\n",
    "val_ds = tf.keras.preprocessing.image_dataset_from_directory(\n",
    "  val_data_dir,\n",
    "  image_size=(img_height, img_width),\n",
    "  batch_size=batch_size)\n"
   ]
  },
  {
   "cell_type": "code",
   "execution_count": 2,
   "metadata": {
    "pycharm": {
     "name": "#%%\n"
    }
   },
   "outputs": [],
   "source": [
    "train_class_names = train_ds.class_names\n",
    "val_class_names = val_ds.class_names"
   ]
  },
  {
   "cell_type": "code",
   "execution_count": 4,
   "metadata": {
    "pycharm": {
     "name": "#%%\n"
    }
   },
   "outputs": [],
   "source": [
    "AUTOTUNE = tf.data.experimental.AUTOTUNE\n",
    "\n",
    "train_ds = train_ds.cache().shuffle(1000).prefetch(buffer_size=AUTOTUNE)\n",
    "val_ds = val_ds.cache().prefetch(buffer_size=AUTOTUNE)"
   ]
  },
  {
   "cell_type": "code",
   "execution_count": 5,
   "metadata": {
    "pycharm": {
     "name": "#%%\n"
    }
   },
   "outputs": [
    {
     "name": "stdout",
     "output_type": "stream",
     "text": [
      "0.0 1.0\n"
     ]
    }
   ],
   "source": [
    "from tensorflow.keras import layers\n",
    "import numpy as np\n",
    "\n",
    "normalization_layer = layers.experimental.preprocessing.Rescaling(1./255)\n",
    "\n",
    "normalized_ds = train_ds.map(lambda x, y: (normalization_layer(x), y))\n",
    "image_batch, labels_batch = next(iter(normalized_ds))\n",
    "first_image = image_batch[0]\n",
    "\n",
    "# Notice the pixels values are now in `[0,1]`.\n",
    "print(np.min(first_image), np.max(first_image))"
   ]
  },
  {
   "cell_type": "code",
   "execution_count": 39,
   "metadata": {
    "pycharm": {
     "name": "#%%\n"
    }
   },
   "outputs": [],
   "source": [
    "num_classes = 5\n",
    "\n",
    "model = Sequential([\n",
    "  layers.experimental.preprocessing.Rescaling(1./255, input_shape=(img_height, img_width, 3)),\n",
    "  layers.Conv2D(16, 3, padding='same', activation='relu'),\n",
    "  layers.MaxPooling2D(),\n",
    "  layers.Conv2D(32, 3, padding='same', activation='relu'),\n",
    "  layers.MaxPooling2D(),\n",
    "  layers.Conv2D(64, 3, padding='same', activation='relu'),\n",
    "  layers.MaxPooling2D(),\n",
    "  layers.Flatten(),\n",
    "  layers.Dense(128, activation='relu'),\n",
    "  layers.Dense(num_classes)\n",
    "])"
   ]
  },
  {
   "cell_type": "code",
   "execution_count": 40,
   "metadata": {
    "pycharm": {
     "name": "#%%\n"
    }
   },
   "outputs": [],
   "source": [
    "model.compile(optimizer='adam',\n",
    "              loss=tf.keras.losses.SparseCategoricalCrossentropy(from_logits=True),\n",
    "              metrics=['accuracy'])"
   ]
  },
  {
   "cell_type": "code",
   "execution_count": 41,
   "metadata": {
    "pycharm": {
     "name": "#%%\n"
    }
   },
   "outputs": [
    {
     "name": "stdout",
     "output_type": "stream",
     "text": [
      "Epoch 1/10\n",
      "1/1 [==============================] - 1s 1s/step - loss: 1.6569 - accuracy: 0.0000e+00 - val_loss: 3.8879 - val_accuracy: 0.3333\b\b\b\b\b\b\b\b\b\b\b\b\b\b\b\b\b\b\b\b\b\b\b\b\b\b\b\b\b\b\b\b\b\b\b\b\b\b\b\n",
      "Epoch 2/10\n",
      "1/1 [==============================] - 1s 684ms/step - loss: 1.4964 - accuracy: 0.5000 - val_loss: 2.5842 - val_accuracy: 0.2333\b\b\b\b\b\b\b\b\b\b\b\b\b\b\b\b\b\b\b\b\b\b\b\b\b\b\b\b\b\b\b\b\n",
      "Epoch 3/10\n",
      "1/1 [==============================] - 0s 443ms/step - loss: 0.5727 - accuracy: 0.6500 - val_loss: 2.6706 - val_accuracy: 0.3333\b\b\b\b\b\b\b\b\b\b\b\b\b\b\b\b\b\b\b\b\b\b\b\b\b\b\b\b\b\b\b\b\n",
      "Epoch 4/10\n",
      "1/1 [==============================] - 1s 635ms/step - loss: 0.6629 - accuracy: 0.5000 - val_loss: 2.4441 - val_accuracy: 0.0333\b\b\b\b\b\b\b\b\b\b\b\b\b\b\b\b\b\b\b\b\b\b\b\b\b\b\b\b\b\b\b\b\n",
      "Epoch 5/10\n",
      "1/1 [==============================] - 1s 678ms/step - loss: 0.4331 - accuracy: 1.0000 - val_loss: 2.5217 - val_accuracy: 0.3333\b\b\b\b\b\b\b\b\b\b\b\b\b\b\b\b\b\b\b\b\b\b\b\b\b\b\b\b\b\b\b\b\n",
      "Epoch 6/10\n",
      "1/1 [==============================] - 0s 432ms/step - loss: 0.3627 - accuracy: 1.0000 - val_loss: 2.7564 - val_accuracy: 0.3333\b\b\b\b\b\b\b\b\b\b\b\b\b\b\b\b\b\b\b\b\b\b\b\b\b\b\b\b\b\b\b\b\n",
      "Epoch 7/10\n",
      "1/1 [==============================] - 1s 504ms/step - loss: 0.3072 - accuracy: 1.0000 - val_loss: 3.0193 - val_accuracy: 0.2667\b\b\b\b\b\b\b\b\b\b\b\b\b\b\b\b\b\b\b\b\b\b\b\b\b\b\b\b\b\b\b\b\n",
      "Epoch 8/10\n",
      "1/1 [==============================] - 1s 501ms/step - loss: 0.2227 - accuracy: 1.0000 - val_loss: 3.4536 - val_accuracy: 0.1667\b\b\b\b\b\b\b\b\b\b\b\b\b\b\b\b\b\b\b\b\b\b\b\b\b\b\b\b\b\b\b\b\n",
      "Epoch 9/10\n",
      "1/1 [==============================] - 0s 426ms/step - loss: 0.2018 - accuracy: 1.0000 - val_loss: 4.0689 - val_accuracy: 0.2667\b\b\b\b\b\b\b\b\b\b\b\b\b\b\b\b\b\b\b\b\b\b\b\b\b\b\b\b\b\b\b\b\n",
      "Epoch 10/10\n",
      "1/1 [==============================] - 0s 465ms/step - loss: 0.1079 - accuracy: 1.0000 - val_loss: 4.8335 - val_accuracy: 0.2667\b\b\b\b\b\b\b\b\b\b\b\b\b\b\b\b\b\b\b\b\b\b\b\b\b\b\b\b\b\b\b\b\n"
     ]
    }
   ],
   "source": [
    "epochs=10\n",
    "history = model.fit(\n",
    "  train_ds,\n",
    "  validation_data=val_ds,\n",
    "  epochs=epochs\n",
    ")"
   ]
  },
  {
   "cell_type": "code",
   "execution_count": 42,
   "metadata": {
    "pycharm": {
     "name": "#%%\n"
    }
   },
   "outputs": [
    {
     "data": {
      "image/png": "[encoded data removed]",
      "text/plain": [
       "<Figure size 576x576 with 2 Axes>"
      ]
     },
     "metadata": {
      "needs_background": "light"
     },
     "output_type": "display_data"
    }
   ],
   "source": [
    "import matplotlib.pyplot as plt\n",
    "\n",
    "acc = history.history['accuracy']\n",
    "val_acc = history.history['val_accuracy']\n",
    "\n",
    "loss = history.history['loss']\n",
    "val_loss = history.history['val_loss']\n",
    "\n",
    "epochs_range = range(epochs)\n",
    "\n",
    "plt.figure(figsize=(8, 8))\n",
    "plt.subplot(1, 2, 1)\n",
    "plt.plot(epochs_range, acc, label='Training Accuracy')\n",
    "plt.plot(epochs_range, val_acc, label='Validation Accuracy')\n",
    "plt.legend(loc='lower right')\n",
    "plt.title('Training and Validation Accuracy')\n",
    "\n",
    "plt.subplot(1, 2, 2)\n",
    "plt.plot(epochs_range, loss, label='Training Loss')\n",
    "plt.plot(epochs_range, val_loss, label='Validation Loss')\n",
    "plt.legend(loc='upper right')\n",
    "plt.title('Training and Validation Loss')\n",
    "plt.show()"
   ]
  },
  {
   "cell_type": "code",
   "execution_count": 53,
   "metadata": {
    "pycharm": {
     "name": "#%%\n"
    },
    "scrolled": true
   },
   "outputs": [
    {
     "name": "stdout",
     "output_type": "stream",
     "text": [
      "******************************************************\n",
      "//Users/dianadragos/Downloads/places365_standard/train//.DS_Store - broken\n",
      "******************************************************\n",
      "//Users/dianadragos/Downloads/places365_standard/train/farm/00004882.jpg - broken\n",
      "******************************************************\n",
      "//Users/dianadragos/Downloads/places365_standard/train/archaelogical_excavation/00001722.jpg - broken\n",
      "******************************************************\n",
      "//Users/dianadragos/Downloads/places365_standard/train/bedroom/00001044.jpg - broken\n",
      "******************************************************\n",
      "//Users/dianadragos/Downloads/places365_standard/train/storage_room/00003653.jpg - broken\n",
      "******************************************************\n",
      "//Users/dianadragos/Downloads/places365_standard/train/archive/00002559.jpg - broken\n",
      "******************************************************\n",
      "//Users/dianadragos/Downloads/places365_standard/train/elevator_shaft/00003647.jpg - broken\n",
      "******************************************************\n",
      "//Users/dianadragos/Downloads/places365_standard/train/amusement_arcade/00004128.jpg - broken\n",
      "******************************************************\n",
      "//Users/dianadragos/Downloads/places365_standard/train/field-cultivated/00001050.jpg - broken\n",
      "******************************************************\n",
      "//Users/dianadragos/Downloads/places365_standard/train/waterfall/00001736.jpg - broken\n",
      "******************************************************\n",
      "//Users/dianadragos/Downloads/places365_standard/train/drugstore/00000400.jpg - broken\n",
      "******************************************************\n",
      "//Users/dianadragos/Downloads/places365_standard/train/windmill/00003121.jpg - broken\n",
      "******************************************************\n",
      "//Users/dianadragos/Downloads/places365_standard/train/racecourse/00004896.jpg - broken\n",
      "******************************************************\n",
      "//Users/dianadragos/Downloads/places365_standard/train/entrance_hall/00000400.jpg - broken\n",
      "******************************************************\n",
      "//Users/dianadragos/Downloads/places365_standard/train/lake-natural/00004666.jpg - broken\n",
      "******************************************************\n",
      "//Users/dianadragos/Downloads/places365_standard/train/attic/00003109.jpg - broken\n",
      "******************************************************\n",
      "//Users/dianadragos/Downloads/places365_standard/train/office_cubicles/00002217.jpg - broken\n",
      "******************************************************\n",
      "//Users/dianadragos/Downloads/places365_standard/train/cafeteria/00002571.jpg - broken\n",
      "******************************************************\n",
      "//Users/dianadragos/Downloads/places365_standard/train/server_room/00000372.jpg - broken\n"
     ]
    }
   ],
   "source": [
    "import os\n",
    "import tensorflow as tf\n",
    "\n",
    "for i, file_name in enumerate(os.walk('//Users/dianadragos/Downloads/places365_standard/train/')):\n",
    "#     print(file_name[2])\n",
    "    try:\n",
    "        img = tf.io.read_file('//Users/dianadragos/Downloads/places365_standard/train/' +file_name[2][i])\n",
    "        img = tf.image.decode_jpeg(img)\n",
    "    except Exception as e:\n",
    "        print('******************************************************')\n",
    "        print('{} - broken'.format(file_name[0] + '/' + file_name[2][i]))"
   ]
  },
  {
   "cell_type": "code",
   "execution_count": null,
   "metadata": {},
   "outputs": [],
   "source": []
  }
 ],
 "metadata": {
  "kernelspec": {
   "display_name": "Python 3",
   "language": "python",
   "name": "python3"
  },
  "language_info": {
   "codemirror_mode": {
    "name": "ipython",
    "version": 3
   },
   "file_extension": ".py",
   "mimetype": "text/x-python",
   "name": "python",
   "nbconvert_exporter": "python",
   "pygments_lexer": "ipython3",
   "version": "3.7.6"
  }
 },
 "nbformat": 4,
 "nbformat_minor": 1
}